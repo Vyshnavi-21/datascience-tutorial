{
 "cells": [
  {
   "cell_type": "code",
   "execution_count": 9,
   "id": "d6f060fd-d9cf-47aa-b247-96297587f2f7",
   "metadata": {},
   "outputs": [
    {
     "name": "stdout",
     "output_type": "stream",
     "text": [
      "[1, 3, 5]\n",
      "0    1\n",
      "1    3\n",
      "2    5\n",
      "dtype: int64\n",
      "------------\n",
      "1\n",
      "------------\n",
      "x    1\n",
      "y    3\n",
      "z    5\n",
      "dtype: int64\n",
      "---------\n",
      "3\n",
      "day1    420\n",
      "day2    380\n",
      "day3    390\n",
      "dtype: int64\n",
      "------------\n",
      "day1    420\n",
      "day2    380\n",
      "dtype: int64\n",
      "0    5\n",
      "1    5\n",
      "2    5\n",
      "3    5\n",
      "dtype: int64\n",
      "------------\n"
     ]
    }
   ],
   "source": [
    "#pandas -unstructured data int0 structured data \n",
    "#a series in pandas is a dimensional array like obj that to a col in spreadsheet ar sql table\n",
    "import pandas as pd\n",
    "a=[1,3,5]\n",
    "myvar= pd.Series(a)\n",
    "print(a)\n",
    "print(myvar) \n",
    "print('------------')\n",
    "#label\n",
    "print(myvar[0])\n",
    "print('------------')\n",
    "myvar2=pd.Series(a,index=[\"x\",\"y\",\"z\"])\n",
    "print(myvar2)\n",
    "print('---------')\n",
    "print(myvar2[\"y\"])\n",
    "calories={\"day1\": 420,\"day2\":380,\"day3\":390}\n",
    "myvar=pd.Series(calories)\n",
    "print(myvar)\n",
    "print('------------')\n",
    "a=pd.Series(calories,index=[\"day1\",\"day2\"])\n",
    "print(a)\n",
    "#series generated from scalar value\n",
    "series=pd.Series(5,index=[0,1,2,3])\n",
    "print(series)\n",
    "print('------------')\n",
    "\n",
    "\n",
    "\n"
   ]
  },
  {
   "cell_type": "code",
   "execution_count": 14,
   "id": "1364533e-689e-4926-b4bb-08438f31811b",
   "metadata": {},
   "outputs": [
    {
     "name": "stdout",
     "output_type": "stream",
     "text": [
      "0    1\n",
      "1    2\n",
      "2    3\n",
      "3    4\n",
      "dtype: int64\n",
      "------------\n",
      "0    1.1\n",
      "1    2.1\n",
      "2    3.1\n",
      "dtype: float64\n",
      "------------\n",
      "0    a\n",
      "1    b\n",
      "2    c\n",
      "3    d\n",
      "dtype: object\n",
      "------------\n",
      "10\n",
      "a    10\n",
      "c    30\n",
      "dtype: int64\n",
      "------------\n",
      "3    40\n",
      "4    50\n",
      "dtype: int64\n",
      "------------\n"
     ]
    }
   ],
   "source": [
    "#in Series function first letter Sshould be capital\n",
    "#series of int\n",
    "int=pd.Series([1,2,3,4])\n",
    "print(int)\n",
    "print('------------')\n",
    "#series of float\n",
    "float=pd.Series([1.1,2.1,3.1])\n",
    "print(float)\n",
    "print('------------')\n",
    "#string series\n",
    "string=pd.Series(['a','b','c','d'])\n",
    "print(string)\n",
    "print('------------') \n",
    "#label based indexing\n",
    "data={'a':10,'b':20,'c':30}\n",
    "series=pd.Series(data)\n",
    "print(series['a'])\n",
    "print(series[['a','c']])\n",
    "print('------------') \n",
    "#boolean indexing\n",
    "data=[10,20,30,40,50]\n",
    "series=pd.Series(data) \n",
    "print(series[series>30])\n",
    "print('------------')"
   ]
  },
  {
   "cell_type": "code",
   "execution_count": 19,
   "id": "bcab03eb-8ead-4f98-8e0f-8c6bcc0e7f10",
   "metadata": {},
   "outputs": [
    {
     "name": "stdout",
     "output_type": "stream",
     "text": [
      "      name  age         city\n",
      "0     Asin   20      Newyork\n",
      "1  samreen   25  los angeles\n",
      "2    summi   30      chicago\n",
      "------------\n",
      "0       Asin\n",
      "1    samreen\n",
      "2      summi\n",
      "Name: name, dtype: object\n",
      "0       Asin\n",
      "1    samreen\n",
      "2      summi\n",
      "Name: name, dtype: object\n",
      "      name         city  age\n",
      "0     Asin      Newyork   20\n",
      "1  samreen  los angeles   25\n",
      "2    summi      chicago   30\n",
      "------------------------------------\n",
      "name       Asin\n",
      "age          20\n",
      "city    Newyork\n",
      "Name: 0, dtype: object\n",
      "name       Asin\n",
      "age          20\n",
      "city    Newyork\n",
      "Name: 0, dtype: object\n",
      "      name  age         city\n",
      "0     Asin   20      Newyork\n",
      "1  samreen   25  los angeles\n",
      "------------------------------------\n"
     ]
    }
   ],
   "source": [
    "#creating a data frame\n",
    "data={ 'name':['Asin','samreen','summi'],\n",
    "        'age':[20,25,30],\n",
    "         'city':['Newyork','los angeles','chicago']\n",
    "      }\n",
    "df=pd.DataFrame(data)\n",
    "print(df)\n",
    "print('------------')\n",
    "#selecting columns\n",
    "print(df.name)\n",
    "print(df['name'])\n",
    "print(df[['name','city','age']])\n",
    "print('------------------------------------')\n",
    "#select single row by label\n",
    "print(df.loc[0])\n",
    "print(df.iloc[0])\n",
    "#select multuple row by label\n",
    "print(df.iloc[0:2])\n",
    "print('------------------------------------')\n",
    "\n",
    "\n",
    "\n"
   ]
  },
  {
   "cell_type": "code",
   "execution_count": 20,
   "id": "71f59762-73b3-4196-bae1-d903b2e0432f",
   "metadata": {},
   "outputs": [
    {
     "name": "stdout",
     "output_type": "stream",
     "text": [
      "    name  age     city\n",
      "2  summi   30  chicago\n",
      "------------------------------------\n",
      "Empty DataFrame\n",
      "Columns: [name, age, city]\n",
      "Index: []\n"
     ]
    }
   ],
   "source": [
    "data={ 'name':['Asin','samreen','summi'],\n",
    "        'age':[20,25,30],\n",
    "         'city':['Newyork','los angeles','chicago']\n",
    "\n",
    "     }\n",
    "df=pd.DataFrame(data)\n",
    "#select rows where age is greatee than 25\n",
    "print(df[df['age']>25])\n",
    "print('------------------------------------')\n",
    "print(df.loc[(df.name=='asin')&(df.city=='los angeles')])"
   ]
  },
  {
   "cell_type": "code",
   "execution_count": 23,
   "id": "77eea04c-36f0-4dc1-b501-b390e24a18bc",
   "metadata": {},
   "outputs": [
    {
     "name": "stdout",
     "output_type": "stream",
     "text": [
      "{'Asin': [0, 3], 'samreen': [1, 4], 'summi': [2]}\n",
      "name\n",
      "Asin       140000\n",
      "samreen    160000\n",
      "summi       90000\n",
      "Name: salary, dtype: int64\n",
      "name\n",
      "Asin       20.0\n",
      "samreen    25.0\n",
      "summi      30.0\n",
      "Name: age, dtype: float64\n",
      "name     city       \n",
      "Asin     Newyork        140000\n",
      "samreen  los angeles    160000\n",
      "summi    chicago         90000\n",
      "Name: salary, dtype: int64\n"
     ]
    }
   ],
   "source": [
    "#groupby in pandas\n",
    "# it is used to split the data in to group\n",
    "data={ 'name':['Asin','samreen','summi','Asin','samreen'],\n",
    "        'age':[20,25,30,20,25],\n",
    "         'city':['Newyork','los angeles','chicago','Newyork','los angeles'],\n",
    "         'salary':[70000,80000,90000,70000,80000]\n",
    "\n",
    "     }\n",
    "df=pd.DataFrame(data)\n",
    "grouped=df.groupby('name')\n",
    "print(grouped.groups)\n",
    "#cal the sum of salaries for each group\n",
    "\n",
    "salary_sum=grouped['salary'].sum()\n",
    "print(salary_sum)\n",
    "age_mean=grouped['age'].mean()\n",
    "print(age_mean)\n",
    "#grouping by multiple columns\n",
    "#group by 'name'and 'city'\n",
    "grouped_multiple=df.groupby(['name','city'])\n",
    "#calculate sum of salaries gfor each group\n",
    "salary_sum_multiple=grouped_multiple['salary'].sum()\n",
    "print(salary_sum_multiple)\n",
    "\n"
   ]
  },
  {
   "cell_type": "code",
   "execution_count": null,
   "id": "f9314f7c-d1fb-45e7-b9a8-aa5b471e34e3",
   "metadata": {},
   "outputs": [],
   "source": []
  }
 ],
 "metadata": {
  "kernelspec": {
   "display_name": "Python 3 (ipykernel)",
   "language": "python",
   "name": "python3"
  },
  "language_info": {
   "codemirror_mode": {
    "name": "ipython",
    "version": 3
   },
   "file_extension": ".py",
   "mimetype": "text/x-python",
   "name": "python",
   "nbconvert_exporter": "python",
   "pygments_lexer": "ipython3",
   "version": "3.11.7"
  }
 },
 "nbformat": 4,
 "nbformat_minor": 5
}
